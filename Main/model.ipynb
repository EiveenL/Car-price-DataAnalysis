{
 "cells": [
  {
   "cell_type": "markdown",
   "id": "23ff6ec6",
   "metadata": {
    "papermill": {
     "duration": 0.008636,
     "end_time": "2022-12-19T00:39:37.742219",
     "exception": false,
     "start_time": "2022-12-19T00:39:37.733583",
     "status": "completed"
    },
    "tags": []
   },
   "source": [
    "# Construccion de modelos"
   ]
  },
  {
   "cell_type": "code",
   "execution_count": 27,
   "id": "0572d5d7",
   "metadata": {
    "_cell_guid": "b1076dfc-b9ad-4769-8c92-a6c4dae69d19",
    "_uuid": "8f2839f25d086af736a60e9eeb907d3b93b6e0e5",
    "papermill": {
     "duration": 1.012628,
     "end_time": "2022-12-19T00:39:38.762811",
     "exception": false,
     "start_time": "2022-12-19T00:39:37.750183",
     "status": "completed"
    },
    "tags": []
   },
   "outputs": [],
   "source": [
    "# Bibliotecas de Datos\n",
    "import numpy as np # linear algebra\n",
    "import pandas as pd # data processing\n",
    "\n",
    "# Biblioteca de Visualizacion\n",
    "import matplotlib.pyplot as plt\n",
    "import seaborn as sns\n",
    "sns.set_theme(style=\"whitegrid\")\n",
    "\n",
    "# Bibliotecas Extras\n",
    "import re"
   ]
  },
  {
   "cell_type": "code",
   "execution_count": 28,
   "id": "1989fb17",
   "metadata": {
    "papermill": {
     "duration": 0.018285,
     "end_time": "2022-12-19T00:39:38.789019",
     "exception": false,
     "start_time": "2022-12-19T00:39:38.770734",
     "status": "completed"
    },
    "tags": []
   },
   "outputs": [],
   "source": [
    "def preparar_motor(pl):\n",
    "    pl = re.sub('[^0-9.]', ' ', pl)\n",
    "    pl = str.strip(pl)\n",
    "    pl = pl.split(' ')[0]\n",
    "    pl = np.nan if (pl == '' or pl == ' ') else pl\n",
    "    return pl"
   ]
  },
  {
   "cell_type": "markdown",
   "id": "68d2c959-dc4a-49ca-a820-f00ab369f52b",
   "metadata": {},
   "source": [
    "El propósito de estas lineas es identificar y analizar los valores atípicos o outliers en los datos. Los outliers son valores que difieren significativamente  del patrón general de los datos y pueden tener un impacto en los análisis y modelos posteriores. Al examinar los outliers, se pueden tomar decisiones informadas sobre cómo manejarlos, como eliminarlos, tratarlos de manera especial o aplicar técnicas específicas de mitigación de outliers."
   ]
  },
  {
   "cell_type": "code",
   "execution_count": 30,
   "id": "f80ea826",
   "metadata": {
    "papermill": {
     "duration": 0.051276,
     "end_time": "2022-12-19T00:39:38.874875",
     "exception": false,
     "start_time": "2022-12-19T00:39:38.823599",
     "status": "completed"
    },
    "tags": []
   },
   "outputs": [
    {
     "data": {
      "text/html": [
       "<div>\n",
       "<style scoped>\n",
       "    .dataframe tbody tr th:only-of-type {\n",
       "        vertical-align: middle;\n",
       "    }\n",
       "\n",
       "    .dataframe tbody tr th {\n",
       "        vertical-align: top;\n",
       "    }\n",
       "\n",
       "    .dataframe thead th {\n",
       "        text-align: right;\n",
       "    }\n",
       "</style>\n",
       "<table border=\"1\" class=\"dataframe\">\n",
       "  <thead>\n",
       "    <tr style=\"text-align: right;\">\n",
       "      <th></th>\n",
       "      <th>money</th>\n",
       "      <th>brand</th>\n",
       "      <th>model</th>\n",
       "      <th>year</th>\n",
       "      <th>color</th>\n",
       "      <th>fuel_type</th>\n",
       "      <th>door</th>\n",
       "      <th>gear</th>\n",
       "      <th>motor</th>\n",
       "      <th>body_type</th>\n",
       "      <th>kilometres</th>\n",
       "      <th>currency</th>\n",
       "    </tr>\n",
       "  </thead>\n",
       "  <tbody>\n",
       "    <tr>\n",
       "      <th>0</th>\n",
       "      <td>10350000</td>\n",
       "      <td>Toyota</td>\n",
       "      <td>Corolla Cross</td>\n",
       "      <td>2022</td>\n",
       "      <td>Plateado</td>\n",
       "      <td>Nafta</td>\n",
       "      <td>5.0</td>\n",
       "      <td>Automática</td>\n",
       "      <td></td>\n",
       "      <td>SUV</td>\n",
       "      <td>500</td>\n",
       "      <td>pesos</td>\n",
       "    </tr>\n",
       "    <tr>\n",
       "      <th>1</th>\n",
       "      <td>10850000</td>\n",
       "      <td>Jeep</td>\n",
       "      <td>Compass</td>\n",
       "      <td>2022</td>\n",
       "      <td>Blanco</td>\n",
       "      <td>Nafta</td>\n",
       "      <td>5.0</td>\n",
       "      <td>Automática</td>\n",
       "      <td>2.4</td>\n",
       "      <td>SUV</td>\n",
       "      <td>500</td>\n",
       "      <td>pesos</td>\n",
       "    </tr>\n",
       "    <tr>\n",
       "      <th>2</th>\n",
       "      <td>35500</td>\n",
       "      <td>Jeep</td>\n",
       "      <td>Compass</td>\n",
       "      <td>2022</td>\n",
       "      <td>Gris oscuro</td>\n",
       "      <td>Nafta</td>\n",
       "      <td>5.0</td>\n",
       "      <td>Automática</td>\n",
       "      <td>2.4</td>\n",
       "      <td>SUV</td>\n",
       "      <td>500</td>\n",
       "      <td>dólares</td>\n",
       "    </tr>\n",
       "    <tr>\n",
       "      <th>3</th>\n",
       "      <td>19000</td>\n",
       "      <td>Citroën</td>\n",
       "      <td>C4 Cactus</td>\n",
       "      <td>2022</td>\n",
       "      <td>Gris oscuro</td>\n",
       "      <td>Nafta</td>\n",
       "      <td>5.0</td>\n",
       "      <td>Automática</td>\n",
       "      <td></td>\n",
       "      <td>SUV</td>\n",
       "      <td>550</td>\n",
       "      <td>dólares</td>\n",
       "    </tr>\n",
       "    <tr>\n",
       "      <th>4</th>\n",
       "      <td>5800000</td>\n",
       "      <td>Toyota</td>\n",
       "      <td>Corolla</td>\n",
       "      <td>2019</td>\n",
       "      <td>Gris</td>\n",
       "      <td>Nafta</td>\n",
       "      <td>4.0</td>\n",
       "      <td>Manual</td>\n",
       "      <td>1.8</td>\n",
       "      <td>Sedán</td>\n",
       "      <td>9000</td>\n",
       "      <td>pesos</td>\n",
       "    </tr>\n",
       "  </tbody>\n",
       "</table>\n",
       "</div>"
      ],
      "text/plain": [
       "      money    brand          model  year        color fuel_type  door  \\\n",
       "0  10350000   Toyota  Corolla Cross  2022     Plateado     Nafta   5.0   \n",
       "1  10850000     Jeep        Compass  2022       Blanco     Nafta   5.0   \n",
       "2     35500     Jeep        Compass  2022  Gris oscuro     Nafta   5.0   \n",
       "3     19000  Citroën      C4 Cactus  2022  Gris oscuro     Nafta   5.0   \n",
       "4   5800000   Toyota        Corolla  2019         Gris     Nafta   4.0   \n",
       "\n",
       "         gear motor body_type  kilometres currency  \n",
       "0  Automática             SUV         500    pesos  \n",
       "1  Automática   2.4       SUV         500    pesos  \n",
       "2  Automática   2.4       SUV         500  dólares  \n",
       "3  Automática             SUV         550  dólares  \n",
       "4      Manual   1.8     Sedán        9000    pesos  "
      ]
     },
     "execution_count": 30,
     "metadata": {},
     "output_type": "execute_result"
    }
   ],
   "source": [
    "df_cars = pd.read_csv(\"../Data/argentina_cars.csv\", converters={'motor': str})\n",
    "df_cars.head()"
   ]
  },
  {
   "cell_type": "code",
   "execution_count": 31,
   "id": "9b4e3361",
   "metadata": {
    "papermill": {
     "duration": 0.033299,
     "end_time": "2022-12-19T00:39:38.916725",
     "exception": false,
     "start_time": "2022-12-19T00:39:38.883426",
     "status": "completed"
    },
    "tags": []
   },
   "outputs": [
    {
     "name": "stdout",
     "output_type": "stream",
     "text": [
      "<class 'pandas.core.frame.DataFrame'>\n",
      "RangeIndex: 510 entries, 0 to 509\n",
      "Data columns (total 12 columns):\n",
      " #   Column      Non-Null Count  Dtype  \n",
      "---  ------      --------------  -----  \n",
      " 0   money       510 non-null    int64  \n",
      " 1   brand       510 non-null    object \n",
      " 2   model       510 non-null    object \n",
      " 3   year        510 non-null    int64  \n",
      " 4   color       499 non-null    object \n",
      " 5   fuel_type   510 non-null    object \n",
      " 6   door        510 non-null    float64\n",
      " 7   gear        509 non-null    object \n",
      " 8   motor       510 non-null    object \n",
      " 9   body_type   509 non-null    object \n",
      " 10  kilometres  510 non-null    int64  \n",
      " 11  currency    510 non-null    object \n",
      "dtypes: float64(1), int64(3), object(8)\n",
      "memory usage: 47.9+ KB\n"
     ]
    }
   ],
   "source": [
    "df_cars.info()"
   ]
  },
  {
   "cell_type": "code",
   "execution_count": 32,
   "id": "6e52d9d0",
   "metadata": {
    "papermill": {
     "duration": 0.02533,
     "end_time": "2022-12-19T00:39:38.952616",
     "exception": false,
     "start_time": "2022-12-19T00:39:38.927286",
     "status": "completed"
    },
    "tags": []
   },
   "outputs": [
    {
     "data": {
      "text/plain": [
       "money         343\n",
       "brand          27\n",
       "model         157\n",
       "year           20\n",
       "color          14\n",
       "fuel_type       4\n",
       "door            4\n",
       "gear            2\n",
       "motor          30\n",
       "body_type      10\n",
       "kilometres    247\n",
       "currency        2\n",
       "dtype: int64"
      ]
     },
     "execution_count": 32,
     "metadata": {},
     "output_type": "execute_result"
    }
   ],
   "source": [
    "df_cars.nunique()"
   ]
  },
  {
   "cell_type": "code",
   "execution_count": 33,
   "id": "f504bd6b",
   "metadata": {
    "papermill": {
     "duration": 0.03268,
     "end_time": "2022-12-19T00:39:38.993922",
     "exception": false,
     "start_time": "2022-12-19T00:39:38.961242",
     "status": "completed"
    },
    "tags": []
   },
   "outputs": [],
   "source": [
    "# Pré Processamento\n",
    "df_cars_2 = df_cars.copy()\n",
    "\n",
    "valor_dolar = 172.72 # Valor referente a 16/12/2022\n",
    "\n",
    "# Tornando as moedas no mesmo formato\n",
    "df_cars_2['money'] = df_cars_2.apply(lambda row: np.round(row['money'] / valor_dolar) \\\n",
    "                                     if row['currency'] == 'pesos' else row['money'], \n",
    "                                     axis=1)\n",
    "\n",
    "df_cars_2.drop(['currency'],axis=1,inplace=True)"
   ]
  },
  {
   "cell_type": "code",
   "execution_count": 34,
   "id": "8433e749",
   "metadata": {
    "papermill": {
     "duration": 0.022025,
     "end_time": "2022-12-19T00:39:40.153159",
     "exception": false,
     "start_time": "2022-12-19T00:39:40.131134",
     "status": "completed"
    },
    "tags": []
   },
   "outputs": [
    {
     "data": {
      "text/plain": [
       "fuel_type\n",
       "Nafta            416\n",
       "Diésel            72\n",
       "Nafta/GNC         19\n",
       "Híbrido/Nafta      3\n",
       "Name: count, dtype: int64"
      ]
     },
     "execution_count": 34,
     "metadata": {},
     "output_type": "execute_result"
    }
   ],
   "source": [
    "df_cars_2.fuel_type.value_counts()"
   ]
  },
  {
   "cell_type": "code",
   "execution_count": 35,
   "id": "283bb9da",
   "metadata": {
    "papermill": {
     "duration": 0.021618,
     "end_time": "2022-12-19T00:39:40.184288",
     "exception": false,
     "start_time": "2022-12-19T00:39:40.162670",
     "status": "completed"
    },
    "tags": []
   },
   "outputs": [
    {
     "data": {
      "text/plain": [
       "gear\n",
       "Manual        298\n",
       "Automática    211\n",
       "Name: count, dtype: int64"
      ]
     },
     "execution_count": 35,
     "metadata": {},
     "output_type": "execute_result"
    }
   ],
   "source": [
    "df_cars_2.gear.value_counts()"
   ]
  },
  {
   "cell_type": "markdown",
   "id": "b487ea6f",
   "metadata": {
    "papermill": {
     "duration": 0.009565,
     "end_time": "2022-12-19T00:39:40.203838",
     "exception": false,
     "start_time": "2022-12-19T00:39:40.194273",
     "status": "completed"
    },
    "tags": []
   },
   "source": [
    "### Analizando Outliers"
   ]
  },
  {
   "cell_type": "code",
   "execution_count": 36,
   "id": "3148868a",
   "metadata": {
    "papermill": {
     "duration": 0.032122,
     "end_time": "2022-12-19T00:39:40.246078",
     "exception": false,
     "start_time": "2022-12-19T00:39:40.213956",
     "status": "completed"
    },
    "tags": []
   },
   "outputs": [
    {
     "data": {
      "text/html": [
       "<div>\n",
       "<style scoped>\n",
       "    .dataframe tbody tr th:only-of-type {\n",
       "        vertical-align: middle;\n",
       "    }\n",
       "\n",
       "    .dataframe tbody tr th {\n",
       "        vertical-align: top;\n",
       "    }\n",
       "\n",
       "    .dataframe thead th {\n",
       "        text-align: right;\n",
       "    }\n",
       "</style>\n",
       "<table border=\"1\" class=\"dataframe\">\n",
       "  <thead>\n",
       "    <tr style=\"text-align: right;\">\n",
       "      <th></th>\n",
       "      <th>money</th>\n",
       "      <th>brand</th>\n",
       "      <th>model</th>\n",
       "      <th>year</th>\n",
       "      <th>color</th>\n",
       "      <th>fuel_type</th>\n",
       "      <th>door</th>\n",
       "      <th>gear</th>\n",
       "      <th>motor</th>\n",
       "      <th>body_type</th>\n",
       "      <th>kilometres</th>\n",
       "    </tr>\n",
       "  </thead>\n",
       "  <tbody>\n",
       "    <tr>\n",
       "      <th>54</th>\n",
       "      <td>185000.0</td>\n",
       "      <td>Mercedes-Benz</td>\n",
       "      <td>Clase E</td>\n",
       "      <td>2019</td>\n",
       "      <td>Gris</td>\n",
       "      <td>Nafta</td>\n",
       "      <td>4.0</td>\n",
       "      <td>Automática</td>\n",
       "      <td>3</td>\n",
       "      <td>Sedán</td>\n",
       "      <td>18594</td>\n",
       "    </tr>\n",
       "    <tr>\n",
       "      <th>134</th>\n",
       "      <td>115700.0</td>\n",
       "      <td>BMW</td>\n",
       "      <td>Serie M</td>\n",
       "      <td>2017</td>\n",
       "      <td>Gris</td>\n",
       "      <td>Nafta</td>\n",
       "      <td>2.0</td>\n",
       "      <td>Automática</td>\n",
       "      <td>3.0</td>\n",
       "      <td>Coupé</td>\n",
       "      <td>11000</td>\n",
       "    </tr>\n",
       "    <tr>\n",
       "      <th>400</th>\n",
       "      <td>128000.0</td>\n",
       "      <td>Ford</td>\n",
       "      <td>F-150</td>\n",
       "      <td>2020</td>\n",
       "      <td>Blanco</td>\n",
       "      <td>Diésel</td>\n",
       "      <td>4.0</td>\n",
       "      <td>Automática</td>\n",
       "      <td>2.0</td>\n",
       "      <td>Pick-Up</td>\n",
       "      <td>52900</td>\n",
       "    </tr>\n",
       "    <tr>\n",
       "      <th>403</th>\n",
       "      <td>235000.0</td>\n",
       "      <td>Audi</td>\n",
       "      <td>R8 Coupé</td>\n",
       "      <td>2011</td>\n",
       "      <td>Blanco</td>\n",
       "      <td>Nafta</td>\n",
       "      <td>2.0</td>\n",
       "      <td>Automática</td>\n",
       "      <td>5.2</td>\n",
       "      <td>Coupé</td>\n",
       "      <td>19200</td>\n",
       "    </tr>\n",
       "    <tr>\n",
       "      <th>461</th>\n",
       "      <td>430000.0</td>\n",
       "      <td>Audi</td>\n",
       "      <td>R8 Coupé</td>\n",
       "      <td>2020</td>\n",
       "      <td>Azul</td>\n",
       "      <td>Nafta</td>\n",
       "      <td>2.0</td>\n",
       "      <td>Automática</td>\n",
       "      <td>5.2</td>\n",
       "      <td>Coupé</td>\n",
       "      <td>3000</td>\n",
       "    </tr>\n",
       "  </tbody>\n",
       "</table>\n",
       "</div>"
      ],
      "text/plain": [
       "        money          brand     model  year   color fuel_type  door  \\\n",
       "54   185000.0  Mercedes-Benz   Clase E  2019    Gris     Nafta   4.0   \n",
       "134  115700.0            BMW   Serie M  2017    Gris     Nafta   2.0   \n",
       "400  128000.0           Ford     F-150  2020  Blanco    Diésel   4.0   \n",
       "403  235000.0           Audi  R8 Coupé  2011  Blanco     Nafta   2.0   \n",
       "461  430000.0           Audi  R8 Coupé  2020    Azul     Nafta   2.0   \n",
       "\n",
       "           gear motor body_type  kilometres  \n",
       "54   Automática     3     Sedán       18594  \n",
       "134  Automática   3.0     Coupé       11000  \n",
       "400  Automática   2.0   Pick-Up       52900  \n",
       "403  Automática   5.2     Coupé       19200  \n",
       "461  Automática   5.2     Coupé        3000  "
      ]
     },
     "execution_count": 36,
     "metadata": {},
     "output_type": "execute_result"
    }
   ],
   "source": [
    "df_cars_2[df_cars_2['money'] > 110000]"
   ]
  },
  {
   "cell_type": "code",
   "execution_count": 37,
   "id": "a2c8e17c",
   "metadata": {
    "papermill": {
     "duration": 0.030297,
     "end_time": "2022-12-19T00:39:40.286354",
     "exception": false,
     "start_time": "2022-12-19T00:39:40.256057",
     "status": "completed"
    },
    "tags": []
   },
   "outputs": [
    {
     "data": {
      "text/html": [
       "<div>\n",
       "<style scoped>\n",
       "    .dataframe tbody tr th:only-of-type {\n",
       "        vertical-align: middle;\n",
       "    }\n",
       "\n",
       "    .dataframe tbody tr th {\n",
       "        vertical-align: top;\n",
       "    }\n",
       "\n",
       "    .dataframe thead th {\n",
       "        text-align: right;\n",
       "    }\n",
       "</style>\n",
       "<table border=\"1\" class=\"dataframe\">\n",
       "  <thead>\n",
       "    <tr style=\"text-align: right;\">\n",
       "      <th></th>\n",
       "      <th>money</th>\n",
       "      <th>brand</th>\n",
       "      <th>model</th>\n",
       "      <th>year</th>\n",
       "      <th>color</th>\n",
       "      <th>fuel_type</th>\n",
       "      <th>door</th>\n",
       "      <th>gear</th>\n",
       "      <th>motor</th>\n",
       "      <th>body_type</th>\n",
       "      <th>kilometres</th>\n",
       "    </tr>\n",
       "  </thead>\n",
       "  <tbody>\n",
       "    <tr>\n",
       "      <th>250</th>\n",
       "      <td>10599.0</td>\n",
       "      <td>Mercedes-Benz</td>\n",
       "      <td>Clase C</td>\n",
       "      <td>2008</td>\n",
       "      <td>Plateado</td>\n",
       "      <td>Nafta</td>\n",
       "      <td>4.0</td>\n",
       "      <td>Automática</td>\n",
       "      <td>2.2</td>\n",
       "      <td>Sedán</td>\n",
       "      <td>250000</td>\n",
       "    </tr>\n",
       "    <tr>\n",
       "      <th>333</th>\n",
       "      <td>53555.0</td>\n",
       "      <td>Mercedes-Benz</td>\n",
       "      <td>Sprinter</td>\n",
       "      <td>2018</td>\n",
       "      <td>Blanco</td>\n",
       "      <td>Diésel</td>\n",
       "      <td>2.0</td>\n",
       "      <td>Manual</td>\n",
       "      <td>2.1</td>\n",
       "      <td>Minivan</td>\n",
       "      <td>242000</td>\n",
       "    </tr>\n",
       "    <tr>\n",
       "      <th>361</th>\n",
       "      <td>16300.0</td>\n",
       "      <td>Ford</td>\n",
       "      <td>F-100</td>\n",
       "      <td>1997</td>\n",
       "      <td>Gris</td>\n",
       "      <td>Diésel</td>\n",
       "      <td>2.0</td>\n",
       "      <td>Manual</td>\n",
       "      <td>2.5</td>\n",
       "      <td>Pick-Up</td>\n",
       "      <td>335000</td>\n",
       "    </tr>\n",
       "  </tbody>\n",
       "</table>\n",
       "</div>"
      ],
      "text/plain": [
       "       money          brand     model  year     color fuel_type  door  \\\n",
       "250  10599.0  Mercedes-Benz   Clase C  2008  Plateado     Nafta   4.0   \n",
       "333  53555.0  Mercedes-Benz  Sprinter  2018    Blanco    Diésel   2.0   \n",
       "361  16300.0           Ford     F-100  1997      Gris    Diésel   2.0   \n",
       "\n",
       "           gear motor body_type  kilometres  \n",
       "250  Automática   2.2     Sedán      250000  \n",
       "333      Manual   2.1   Minivan      242000  \n",
       "361      Manual   2.5   Pick-Up      335000  "
      ]
     },
     "execution_count": 37,
     "metadata": {},
     "output_type": "execute_result"
    }
   ],
   "source": [
    "df_cars_2[df_cars_2['kilometres'] > 230000]"
   ]
  },
  {
   "cell_type": "code",
   "execution_count": 38,
   "id": "a5e068d9",
   "metadata": {
    "papermill": {
     "duration": 0.029399,
     "end_time": "2022-12-19T00:39:40.326421",
     "exception": false,
     "start_time": "2022-12-19T00:39:40.297022",
     "status": "completed"
    },
    "tags": []
   },
   "outputs": [
    {
     "data": {
      "text/html": [
       "<div>\n",
       "<style scoped>\n",
       "    .dataframe tbody tr th:only-of-type {\n",
       "        vertical-align: middle;\n",
       "    }\n",
       "\n",
       "    .dataframe tbody tr th {\n",
       "        vertical-align: top;\n",
       "    }\n",
       "\n",
       "    .dataframe thead th {\n",
       "        text-align: right;\n",
       "    }\n",
       "</style>\n",
       "<table border=\"1\" class=\"dataframe\">\n",
       "  <thead>\n",
       "    <tr style=\"text-align: right;\">\n",
       "      <th></th>\n",
       "      <th>money</th>\n",
       "      <th>brand</th>\n",
       "      <th>model</th>\n",
       "      <th>year</th>\n",
       "      <th>color</th>\n",
       "      <th>fuel_type</th>\n",
       "      <th>door</th>\n",
       "      <th>gear</th>\n",
       "      <th>motor</th>\n",
       "      <th>body_type</th>\n",
       "      <th>kilometres</th>\n",
       "    </tr>\n",
       "  </thead>\n",
       "  <tbody>\n",
       "    <tr>\n",
       "      <th>208</th>\n",
       "      <td>16000.0</td>\n",
       "      <td>BMW</td>\n",
       "      <td>X5</td>\n",
       "      <td>2000</td>\n",
       "      <td>NaN</td>\n",
       "      <td>Nafta</td>\n",
       "      <td>5.0</td>\n",
       "      <td>Manual</td>\n",
       "      <td>4.4</td>\n",
       "      <td>SUV</td>\n",
       "      <td>132000</td>\n",
       "    </tr>\n",
       "    <tr>\n",
       "      <th>361</th>\n",
       "      <td>16300.0</td>\n",
       "      <td>Ford</td>\n",
       "      <td>F-100</td>\n",
       "      <td>1997</td>\n",
       "      <td>Gris</td>\n",
       "      <td>Diésel</td>\n",
       "      <td>2.0</td>\n",
       "      <td>Manual</td>\n",
       "      <td>2.5</td>\n",
       "      <td>Pick-Up</td>\n",
       "      <td>335000</td>\n",
       "    </tr>\n",
       "    <tr>\n",
       "      <th>440</th>\n",
       "      <td>10000.0</td>\n",
       "      <td>Volvo</td>\n",
       "      <td>960</td>\n",
       "      <td>1995</td>\n",
       "      <td>Gris</td>\n",
       "      <td>Nafta</td>\n",
       "      <td>5.0</td>\n",
       "      <td>Manual</td>\n",
       "      <td>3.0</td>\n",
       "      <td>Rural</td>\n",
       "      <td>125000</td>\n",
       "    </tr>\n",
       "    <tr>\n",
       "      <th>467</th>\n",
       "      <td>11290.0</td>\n",
       "      <td>Peugeot</td>\n",
       "      <td>504</td>\n",
       "      <td>1996</td>\n",
       "      <td>NaN</td>\n",
       "      <td>Diésel</td>\n",
       "      <td>4.0</td>\n",
       "      <td>Manual</td>\n",
       "      <td>2.3</td>\n",
       "      <td>Sedán</td>\n",
       "      <td>99000</td>\n",
       "    </tr>\n",
       "  </tbody>\n",
       "</table>\n",
       "</div>"
      ],
      "text/plain": [
       "       money    brand  model  year color fuel_type  door    gear motor  \\\n",
       "208  16000.0      BMW     X5  2000   NaN     Nafta   5.0  Manual   4.4   \n",
       "361  16300.0     Ford  F-100  1997  Gris    Diésel   2.0  Manual   2.5   \n",
       "440  10000.0    Volvo    960  1995  Gris     Nafta   5.0  Manual   3.0   \n",
       "467  11290.0  Peugeot    504  1996   NaN    Diésel   4.0  Manual   2.3   \n",
       "\n",
       "    body_type  kilometres  \n",
       "208       SUV      132000  \n",
       "361   Pick-Up      335000  \n",
       "440     Rural      125000  \n",
       "467     Sedán       99000  "
      ]
     },
     "execution_count": 38,
     "metadata": {},
     "output_type": "execute_result"
    }
   ],
   "source": [
    "df_cars_2[df_cars_2['year'] <= 2000]"
   ]
  },
  {
   "cell_type": "markdown",
   "id": "5a6bf528",
   "metadata": {
    "papermill": {
     "duration": 0.009571,
     "end_time": "2022-12-19T00:39:40.346243",
     "exception": false,
     "start_time": "2022-12-19T00:39:40.336672",
     "status": "completed"
    },
    "tags": []
   },
   "source": [
    "## Preparación de datos"
   ]
  },
  {
   "cell_type": "code",
   "execution_count": 39,
   "id": "97c5ee79",
   "metadata": {
    "papermill": {
     "duration": 0.426859,
     "end_time": "2022-12-19T00:39:40.784095",
     "exception": false,
     "start_time": "2022-12-19T00:39:40.357236",
     "status": "completed"
    },
    "tags": []
   },
   "outputs": [],
   "source": [
    "# Bibliotecas de Machine Learning\n",
    "from sklearn import preprocessing\n",
    "from sklearn.preprocessing import StandardScaler, MinMaxScaler\n",
    "from sklearn.model_selection import train_test_split\n",
    "from sklearn import metrics\n",
    "from sklearn.svm import SVR\n",
    "from sklearn.tree import DecisionTreeRegressor\n",
    "from sklearn.ensemble import RandomForestRegressor, AdaBoostRegressor\n",
    "from sklearn.neighbors import KNeighborsRegressor"
   ]
  },
  {
   "cell_type": "code",
   "execution_count": 40,
   "id": "8bd0447b",
   "metadata": {
    "papermill": {
     "duration": 0.019712,
     "end_time": "2022-12-19T00:39:40.814612",
     "exception": false,
     "start_time": "2022-12-19T00:39:40.794900",
     "status": "completed"
    },
    "tags": []
   },
   "outputs": [],
   "source": [
    "df_cars_3 = df_cars_2.copy()"
   ]
  },
  {
   "cell_type": "code",
   "execution_count": 41,
   "id": "b534ac2a",
   "metadata": {
    "papermill": {
     "duration": 0.021223,
     "end_time": "2022-12-19T00:39:40.846097",
     "exception": false,
     "start_time": "2022-12-19T00:39:40.824874",
     "status": "completed"
    },
    "tags": []
   },
   "outputs": [],
   "source": [
    "# df_cars_3.motor.unique()\n",
    "df_cars_3['motor'] = df_cars_3['motor'].apply(lambda x: preparar_motor(x))\n",
    "df_cars_3['motor'] = df_cars_3['motor'].astype(float)"
   ]
  },
  {
   "cell_type": "code",
   "execution_count": 42,
   "id": "8c65d8c3",
   "metadata": {
    "papermill": {
     "duration": 0.021468,
     "end_time": "2022-12-19T00:39:40.877426",
     "exception": false,
     "start_time": "2022-12-19T00:39:40.855958",
     "status": "completed"
    },
    "tags": []
   },
   "outputs": [],
   "source": [
    "le = preprocessing.LabelEncoder()\n",
    "\n",
    "# df_cars_3['brand'] = le.fit_transform(df_cars_3['brand'])\n",
    "# df_cars_3['model'] = le.fit_transform(df_cars_3['model'])\n",
    "df_cars_3['color'] = le.fit_transform(df_cars_3['color'])\n",
    "df_cars_3['fuel_type'] = le.fit_transform(df_cars_3['fuel_type'])\n",
    "df_cars_3['gear'] = le.fit_transform(df_cars_3['gear'])\n",
    "df_cars_3['body_type'] = le.fit_transform(df_cars_3['body_type'])"
   ]
  },
  {
   "cell_type": "code",
   "execution_count": 43,
   "id": "50cd8637",
   "metadata": {
    "papermill": {
     "duration": 0.023478,
     "end_time": "2022-12-19T00:39:40.911185",
     "exception": false,
     "start_time": "2022-12-19T00:39:40.887707",
     "status": "completed"
    },
    "tags": []
   },
   "outputs": [
    {
     "data": {
      "text/plain": [
       "(501, 11)"
      ]
     },
     "execution_count": 43,
     "metadata": {},
     "output_type": "execute_result"
    }
   ],
   "source": [
    "df_cars_3 = df_cars_3[df_cars_3['money'] < 100000]\n",
    "df_cars_3 = df_cars_3[df_cars_3['kilometres'] < 250000]\n",
    "df_cars_3 = df_cars_3[df_cars_3['year'] >= 2000]\n",
    "# df_cars_3 = df_cars_3[df_cars_3['motor'] <= 6]\n",
    "df_cars_3.shape"
   ]
  },
  {
   "cell_type": "code",
   "execution_count": 44,
   "id": "105859ed",
   "metadata": {
    "papermill": {
     "duration": 0.021616,
     "end_time": "2022-12-19T00:39:41.541359",
     "exception": false,
     "start_time": "2022-12-19T00:39:41.519743",
     "status": "completed"
    },
    "tags": []
   },
   "outputs": [],
   "source": [
    "df_cars_4 = df_cars_3.drop(['brand', 'model', 'body_type',],axis=1)\n",
    "\n",
    "df_cars_4 = df_cars_4.dropna()"
   ]
  },
  {
   "cell_type": "code",
   "execution_count": 45,
   "id": "a50e6a5a",
   "metadata": {
    "papermill": {
     "duration": 0.02093,
     "end_time": "2022-12-19T00:39:41.573603",
     "exception": false,
     "start_time": "2022-12-19T00:39:41.552673",
     "status": "completed"
    },
    "tags": []
   },
   "outputs": [
    {
     "data": {
      "text/plain": [
       "money         0\n",
       "year          0\n",
       "color         0\n",
       "fuel_type     0\n",
       "door          0\n",
       "gear          0\n",
       "motor         0\n",
       "kilometres    0\n",
       "dtype: int64"
      ]
     },
     "execution_count": 45,
     "metadata": {},
     "output_type": "execute_result"
    }
   ],
   "source": [
    "df_cars_4.isna().sum()"
   ]
  },
  {
   "cell_type": "code",
   "execution_count": 46,
   "id": "bc03a621",
   "metadata": {
    "papermill": {
     "duration": 0.019953,
     "end_time": "2022-12-19T00:39:41.605355",
     "exception": false,
     "start_time": "2022-12-19T00:39:41.585402",
     "status": "completed"
    },
    "tags": []
   },
   "outputs": [],
   "source": [
    "X = df_cars_4.drop(['money'], axis=1).values\n",
    "y = df_cars_4['money']"
   ]
  },
  {
   "cell_type": "code",
   "execution_count": 47,
   "id": "a52be209",
   "metadata": {
    "papermill": {
     "duration": 0.019346,
     "end_time": "2022-12-19T00:39:41.635926",
     "exception": false,
     "start_time": "2022-12-19T00:39:41.616580",
     "status": "completed"
    },
    "tags": []
   },
   "outputs": [],
   "source": [
    "# Padronização dos Dados\n",
    "scaler = MinMaxScaler()\n",
    "X = scaler.fit_transform(X)"
   ]
  },
  {
   "cell_type": "code",
   "execution_count": 48,
   "id": "dceeb43b",
   "metadata": {
    "papermill": {
     "duration": 0.019867,
     "end_time": "2022-12-19T00:39:41.666786",
     "exception": false,
     "start_time": "2022-12-19T00:39:41.646919",
     "status": "completed"
    },
    "tags": []
   },
   "outputs": [],
   "source": [
    "# Separando los datos de entrenamiento y testeo\n",
    "X_train, X_test, y_train, y_test = train_test_split(X, y, test_size=0.25, random_state=123)"
   ]
  },
  {
   "cell_type": "markdown",
   "id": "987512f3",
   "metadata": {
    "papermill": {
     "duration": 0.01047,
     "end_time": "2022-12-19T00:39:41.688585",
     "exception": false,
     "start_time": "2022-12-19T00:39:41.678115",
     "status": "completed"
    },
    "tags": []
   },
   "source": [
    "## Entrenando los modelos"
   ]
  },
  {
   "cell_type": "code",
   "execution_count": 49,
   "id": "c367925c-3022-4b14-8b2d-02d67a45a76a",
   "metadata": {},
   "outputs": [],
   "source": [
    "import pickle"
   ]
  },
  {
   "cell_type": "code",
   "execution_count": 50,
   "id": "362ce4aa",
   "metadata": {
    "papermill": {
     "duration": 0.02363,
     "end_time": "2022-12-19T00:39:41.723042",
     "exception": false,
     "start_time": "2022-12-19T00:39:41.699412",
     "status": "completed"
    },
    "tags": []
   },
   "outputs": [],
   "source": [
    "modelA = DecisionTreeRegressor(random_state=10)\n",
    "modelA.fit(X_train, y_train)\n",
    "y_pred = modelA.predict(X_test)"
   ]
  },
  {
   "cell_type": "code",
   "execution_count": 51,
   "id": "cb3b09aa",
   "metadata": {
    "papermill": {
     "duration": 0.023266,
     "end_time": "2022-12-19T00:39:41.757266",
     "exception": false,
     "start_time": "2022-12-19T00:39:41.734000",
     "status": "completed"
    },
    "tags": []
   },
   "outputs": [
    {
     "name": "stdout",
     "output_type": "stream",
     "text": [
      "Accuracy on Traing set:  0.9999917546364435\n",
      "Accuracy on Testing set:  0.6701657806319894\n",
      "\n",
      "\n",
      "MSE: 87680416.78049\n",
      "Root Mean Squared Error: 9363.782\n",
      "R-squared: 0.67017\n"
     ]
    }
   ],
   "source": [
    "mse = round(metrics.mean_squared_error(y_test, y_pred), 5)\n",
    "rmse = round(np.sqrt(mse), 3)\n",
    "r2_value = round(metrics.r2_score(y_test, y_pred), 5)\n",
    "\n",
    "print(\"Accuracy on Traing set: \", modelA.score(X_train, y_train))\n",
    "print(\"Accuracy on Testing set: \", modelA.score(X_test, y_test))\n",
    "print('\\n')\n",
    "print('MSE: {}'.format(mse))\n",
    "print('Root Mean Squared Error: {}'.format(rmse))\n",
    "print('R-squared: {}'.format(r2_value))"
   ]
  },
  {
   "cell_type": "code",
   "execution_count": 53,
   "id": "459902e8",
   "metadata": {
    "papermill": {
     "duration": 0.161456,
     "end_time": "2022-12-19T00:39:41.930704",
     "exception": false,
     "start_time": "2022-12-19T00:39:41.769248",
     "status": "completed"
    },
    "tags": []
   },
   "outputs": [],
   "source": [
    "modelB = RandomForestRegressor(max_depth=9,random_state=10)\n",
    "modelB.fit(X_train, y_train)\n",
    "y_pred = modelB.predict(X_test)"
   ]
  },
  {
   "cell_type": "code",
   "execution_count": 54,
   "id": "3a048623",
   "metadata": {
    "papermill": {
     "duration": 0.048939,
     "end_time": "2022-12-19T00:39:41.991269",
     "exception": false,
     "start_time": "2022-12-19T00:39:41.942330",
     "status": "completed"
    },
    "tags": []
   },
   "outputs": [
    {
     "name": "stdout",
     "output_type": "stream",
     "text": [
      "Accuracy on Traing set:  0.9500068744885101\n",
      "Accuracy on Testing set:  0.8270391539614242\n",
      "\n",
      "\n",
      "MSE: 45978489.12228\n",
      "Root Mean Squared Error: 6780.744\n",
      "R-squared: 0.82704\n"
     ]
    }
   ],
   "source": [
    "mse = round(metrics.mean_squared_error(y_test, y_pred), 5)\n",
    "rmse = round(np.sqrt(mse), 3)\n",
    "r2_value = round(metrics.r2_score(y_test, y_pred), 5)\n",
    "\n",
    "print(\"Accuracy on Traing set: \", modelB.score(X_train, y_train))\n",
    "print(\"Accuracy on Testing set: \", modelB.score(X_test, y_test))\n",
    "print('\\n')\n",
    "print('MSE: {}'.format(mse))\n",
    "print('Root Mean Squared Error: {}'.format(rmse))\n",
    "print('R-squared: {}'.format(r2_value))"
   ]
  },
  {
   "cell_type": "code",
   "execution_count": 55,
   "id": "6946d276",
   "metadata": {
    "papermill": {
     "duration": 0.021959,
     "end_time": "2022-12-19T00:39:42.024473",
     "exception": false,
     "start_time": "2022-12-19T00:39:42.002514",
     "status": "completed"
    },
    "tags": []
   },
   "outputs": [],
   "source": [
    "modelC = KNeighborsRegressor(n_neighbors=5, weights='distance')\n",
    "modelC.fit(X_train, y_train)\n",
    "y_pred = modelC.predict(X_test)"
   ]
  },
  {
   "cell_type": "code",
   "execution_count": 56,
   "id": "276eaae9",
   "metadata": {
    "papermill": {
     "duration": 0.028645,
     "end_time": "2022-12-19T00:39:42.064151",
     "exception": false,
     "start_time": "2022-12-19T00:39:42.035506",
     "status": "completed"
    },
    "tags": []
   },
   "outputs": [
    {
     "name": "stdout",
     "output_type": "stream",
     "text": [
      "Accuracy on Traing set:  0.9999917546364435\n",
      "Accuracy on Testing set:  0.7433625600079621\n",
      "\n",
      "\n",
      "MSE: 68222386.81934\n",
      "Root Mean Squared Error: 8259.684\n",
      "R-squared: 0.74336\n"
     ]
    }
   ],
   "source": [
    "mse = round(metrics.mean_squared_error(y_test, y_pred), 5)\n",
    "rmse = round(np.sqrt(mse), 3)\n",
    "r2_value = round(metrics.r2_score(y_test, y_pred), 5)\n",
    "\n",
    "print(\"Accuracy on Traing set: \", modelC.score(X_train, y_train))\n",
    "print(\"Accuracy on Testing set: \", modelC.score(X_test, y_test))\n",
    "print('\\n')\n",
    "print('MSE: {}'.format(mse))\n",
    "print('Root Mean Squared Error: {}'.format(rmse))\n",
    "print('R-squared: {}'.format(r2_value))"
   ]
  },
  {
   "cell_type": "markdown",
   "id": "039ac2aa-19b5-46c6-b4a4-5588aaa1350a",
   "metadata": {},
   "source": [
    "## Guardando modelos"
   ]
  },
  {
   "cell_type": "code",
   "execution_count": 57,
   "id": "a54c54a1-7bc5-420a-b713-42a7223fc1a2",
   "metadata": {},
   "outputs": [],
   "source": [
    "# Guardar el modelo entrenado en un archivo .pkl\n",
    "with open(\"random_forest_model.pkl\", \"wb\") as a:\n",
    "    pickle.dump(modelA, a)"
   ]
  },
  {
   "cell_type": "code",
   "execution_count": 58,
   "id": "3e1fa715-a58e-48a9-ba0b-43e4d4db706e",
   "metadata": {},
   "outputs": [],
   "source": [
    "# Guardar el modelo entrenado en un archivo .pkl\n",
    "with open(\"KNeighbors_regressor.pkl\", \"wb\") as b:\n",
    "    pickle.dump(modelB, b)"
   ]
  },
  {
   "cell_type": "code",
   "execution_count": 59,
   "id": "75dc5456-4a74-4858-a54c-2bbc5de71613",
   "metadata": {},
   "outputs": [],
   "source": [
    "# Guardar el modelo entrenado en un archivo .pkl\n",
    "with open(\"DecisionTree_regressor.pkl\", \"wb\") as c:\n",
    "    pickle.dump(modelC, c)"
   ]
  }
 ],
 "metadata": {
  "kernelspec": {
   "display_name": "Python 3 (ipykernel)",
   "language": "python",
   "name": "python3"
  },
  "language_info": {
   "codemirror_mode": {
    "name": "ipython",
    "version": 3
   },
   "file_extension": ".py",
   "mimetype": "text/x-python",
   "name": "python",
   "nbconvert_exporter": "python",
   "pygments_lexer": "ipython3",
   "version": "3.8.16"
  },
  "papermill": {
   "default_parameters": {},
   "duration": 15.004395,
   "end_time": "2022-12-19T00:39:45.111768",
   "environment_variables": {},
   "exception": null,
   "input_path": "__notebook__.ipynb",
   "output_path": "__notebook__.ipynb",
   "parameters": {},
   "start_time": "2022-12-19T00:39:30.107373",
   "version": "2.3.4"
  }
 },
 "nbformat": 4,
 "nbformat_minor": 5
}
